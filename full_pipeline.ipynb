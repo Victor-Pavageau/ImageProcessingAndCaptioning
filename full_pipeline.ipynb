{
  "nbformat": 4,
  "nbformat_minor": 0,
  "metadata": {
    "colab": {
      "provenance": [],
      "gpuType": "T4",
      "collapsed_sections": [
        "3g9tb-VKpPuE",
        "nQivC_93pYrB",
        "m-ehWQnepv76",
        "xrx5sA55p6OE",
        "OkaC273Gp8Vz",
        "dKAWW6QQp_Zk",
        "tHsi9FoOqCQm",
        "GtCqPisTqI11",
        "mrvOG7ShqSI1"
      ]
    },
    "kernelspec": {
      "name": "python3",
      "display_name": "Python 3"
    },
    "language_info": {
      "name": "python"
    },
    "accelerator": "GPU"
  },
  "cells": [
    {
      "cell_type": "markdown",
      "source": [
        "# Installation de l'environnement"
      ],
      "metadata": {
        "id": "tyBuVr4zpIcy"
      }
    },
    {
      "cell_type": "markdown",
      "source": [
        "## Installation des dépendances"
      ],
      "metadata": {
        "id": "3g9tb-VKpPuE"
      }
    },
    {
      "cell_type": "code",
      "execution_count": null,
      "metadata": {
        "colab": {
          "base_uri": "https://localhost:8080/"
        },
        "id": "M5PZU0jYmLve",
        "outputId": "b61533e3-8670-4ca9-8617-a26e197dcc45"
      },
      "outputs": [
        {
          "output_type": "stream",
          "name": "stdout",
          "text": [
            "Cloning into 'DeOldify'...\n",
            "remote: Enumerating objects: 2609, done.\u001b[K\n",
            "remote: Counting objects: 100% (263/263), done.\u001b[K\n",
            "remote: Compressing objects: 100% (186/186), done.\u001b[K\n",
            "remote: Total 2609 (delta 87), reused 209 (delta 70), pack-reused 2346\u001b[K\n",
            "Receiving objects: 100% (2609/2609), 69.71 MiB | 11.11 MiB/s, done.\n",
            "Resolving deltas: 100% (1170/1170), done.\n"
          ]
        }
      ],
      "source": [
        "!git clone https://github.com/jantic/DeOldify.git DeOldify"
      ]
    },
    {
      "cell_type": "code",
      "source": [
        "cd DeOldify"
      ],
      "metadata": {
        "colab": {
          "base_uri": "https://localhost:8080/"
        },
        "id": "n-Nqchre7Nkv",
        "outputId": "2d044e71-8497-45e5-e6a1-9028d92cb052"
      },
      "execution_count": null,
      "outputs": [
        {
          "output_type": "stream",
          "name": "stdout",
          "text": [
            "/content/DeOldify\n"
          ]
        }
      ]
    },
    {
      "cell_type": "code",
      "source": [
        "!pip install -r requirements-colab.txt\n",
        "!pip install gradio"
      ],
      "metadata": {
        "colab": {
          "base_uri": "https://localhost:8080/"
        },
        "id": "dfGRrbSw7SXi",
        "outputId": "dca71e82-39a4-4038-97e2-9deada0abf8e"
      },
      "execution_count": null,
      "outputs": [
        {
          "output_type": "stream",
          "name": "stdout",
          "text": [
            "Collecting fastai==1.0.60 (from -r requirements-colab.txt (line 1))\n",
            "  Downloading fastai-1.0.60-py3-none-any.whl (237 kB)\n",
            "\u001b[2K     \u001b[90m━━━━━━━━━━━━━━━━━━━━━━━━━━━━━━━━━━━━━━━━\u001b[0m \u001b[32m237.3/237.3 kB\u001b[0m \u001b[31m1.7 MB/s\u001b[0m eta \u001b[36m0:00:00\u001b[0m\n",
            "\u001b[?25hCollecting tensorboardX>=1.6 (from -r requirements-colab.txt (line 2))\n",
            "  Downloading tensorboardX-2.6.2.2-py2.py3-none-any.whl (101 kB)\n",
            "\u001b[2K     \u001b[90m━━━━━━━━━━━━━━━━━━━━━━━━━━━━━━━━━━━━━━━━\u001b[0m \u001b[32m101.7/101.7 kB\u001b[0m \u001b[31m10.9 MB/s\u001b[0m eta \u001b[36m0:00:00\u001b[0m\n",
            "\u001b[?25hCollecting ffmpeg-python (from -r requirements-colab.txt (line 3))\n",
            "  Downloading ffmpeg_python-0.2.0-py3-none-any.whl (25 kB)\n",
            "Collecting yt-dlp (from -r requirements-colab.txt (line 4))\n",
            "  Downloading yt_dlp-2023.12.30-py2.py3-none-any.whl (3.0 MB)\n",
            "\u001b[2K     \u001b[90m━━━━━━━━━━━━━━━━━━━━━━━━━━━━━━━━━━━━━━━━\u001b[0m \u001b[32m3.0/3.0 MB\u001b[0m \u001b[31m14.5 MB/s\u001b[0m eta \u001b[36m0:00:00\u001b[0m\n",
            "\u001b[?25hRequirement already satisfied: opencv-python>=4.2.0.32 in /usr/local/lib/python3.10/dist-packages (from -r requirements-colab.txt (line 5)) (4.8.0.76)\n",
            "Requirement already satisfied: Pillow in /usr/local/lib/python3.10/dist-packages (from -r requirements-colab.txt (line 6)) (9.4.0)\n",
            "Requirement already satisfied: tornado in /usr/local/lib/python3.10/dist-packages (from -r requirements-colab.txt (line 7)) (6.3.2)\n",
            "Collecting imgaug==0.2.6 (from -r requirements-colab.txt (line 8))\n",
            "  Downloading imgaug-0.2.6.tar.gz (631 kB)\n",
            "\u001b[2K     \u001b[90m━━━━━━━━━━━━━━━━━━━━━━━━━━━━━━━━━━━━━━━━\u001b[0m \u001b[32m631.4/631.4 kB\u001b[0m \u001b[31m21.6 MB/s\u001b[0m eta \u001b[36m0:00:00\u001b[0m\n",
            "\u001b[?25h  Preparing metadata (setup.py) ... \u001b[?25l\u001b[?25hdone\n",
            "Collecting bottleneck (from fastai==1.0.60->-r requirements-colab.txt (line 1))\n",
            "  Downloading Bottleneck-1.3.7-cp310-cp310-manylinux_2_5_x86_64.manylinux1_x86_64.manylinux_2_17_x86_64.manylinux2014_x86_64.whl (354 kB)\n",
            "\u001b[2K     \u001b[90m━━━━━━━━━━━━━━━━━━━━━━━━━━━━━━━━━━━━━━━━\u001b[0m \u001b[32m354.0/354.0 kB\u001b[0m \u001b[31m20.4 MB/s\u001b[0m eta \u001b[36m0:00:00\u001b[0m\n",
            "\u001b[?25hRequirement already satisfied: fastprogress>=0.2.1 in /usr/local/lib/python3.10/dist-packages (from fastai==1.0.60->-r requirements-colab.txt (line 1)) (1.0.3)\n",
            "Requirement already satisfied: beautifulsoup4 in /usr/local/lib/python3.10/dist-packages (from fastai==1.0.60->-r requirements-colab.txt (line 1)) (4.11.2)\n",
            "Requirement already satisfied: matplotlib in /usr/local/lib/python3.10/dist-packages (from fastai==1.0.60->-r requirements-colab.txt (line 1)) (3.7.1)\n",
            "Requirement already satisfied: numexpr in /usr/local/lib/python3.10/dist-packages (from fastai==1.0.60->-r requirements-colab.txt (line 1)) (2.8.8)\n",
            "Requirement already satisfied: numpy>=1.15 in /usr/local/lib/python3.10/dist-packages (from fastai==1.0.60->-r requirements-colab.txt (line 1)) (1.23.5)\n",
            "Collecting nvidia-ml-py3 (from fastai==1.0.60->-r requirements-colab.txt (line 1))\n",
            "  Downloading nvidia-ml-py3-7.352.0.tar.gz (19 kB)\n",
            "  Preparing metadata (setup.py) ... \u001b[?25l\u001b[?25hdone\n",
            "Requirement already satisfied: pandas in /usr/local/lib/python3.10/dist-packages (from fastai==1.0.60->-r requirements-colab.txt (line 1)) (1.5.3)\n",
            "Requirement already satisfied: packaging in /usr/local/lib/python3.10/dist-packages (from fastai==1.0.60->-r requirements-colab.txt (line 1)) (23.2)\n",
            "Requirement already satisfied: pyyaml in /usr/local/lib/python3.10/dist-packages (from fastai==1.0.60->-r requirements-colab.txt (line 1)) (6.0.1)\n",
            "Requirement already satisfied: requests in /usr/local/lib/python3.10/dist-packages (from fastai==1.0.60->-r requirements-colab.txt (line 1)) (2.31.0)\n",
            "Requirement already satisfied: scipy in /usr/local/lib/python3.10/dist-packages (from fastai==1.0.60->-r requirements-colab.txt (line 1)) (1.11.4)\n",
            "Requirement already satisfied: torch>=1.0.0 in /usr/local/lib/python3.10/dist-packages (from fastai==1.0.60->-r requirements-colab.txt (line 1)) (2.1.0+cu121)\n",
            "Requirement already satisfied: spacy>=2.0.18 in /usr/local/lib/python3.10/dist-packages (from fastai==1.0.60->-r requirements-colab.txt (line 1)) (3.6.1)\n",
            "Requirement already satisfied: torchvision in /usr/local/lib/python3.10/dist-packages (from fastai==1.0.60->-r requirements-colab.txt (line 1)) (0.16.0+cu121)\n",
            "Requirement already satisfied: scikit-image>=0.11.0 in /usr/local/lib/python3.10/dist-packages (from imgaug==0.2.6->-r requirements-colab.txt (line 8)) (0.19.3)\n",
            "Requirement already satisfied: six in /usr/local/lib/python3.10/dist-packages (from imgaug==0.2.6->-r requirements-colab.txt (line 8)) (1.16.0)\n",
            "Requirement already satisfied: protobuf>=3.20 in /usr/local/lib/python3.10/dist-packages (from tensorboardX>=1.6->-r requirements-colab.txt (line 2)) (3.20.3)\n",
            "Requirement already satisfied: future in /usr/local/lib/python3.10/dist-packages (from ffmpeg-python->-r requirements-colab.txt (line 3)) (0.18.3)\n",
            "Collecting mutagen (from yt-dlp->-r requirements-colab.txt (line 4))\n",
            "  Downloading mutagen-1.47.0-py3-none-any.whl (194 kB)\n",
            "\u001b[2K     \u001b[90m━━━━━━━━━━━━━━━━━━━━━━━━━━━━━━━━━━━━━━━━\u001b[0m \u001b[32m194.4/194.4 kB\u001b[0m \u001b[31m10.2 MB/s\u001b[0m eta \u001b[36m0:00:00\u001b[0m\n",
            "\u001b[?25hCollecting pycryptodomex (from yt-dlp->-r requirements-colab.txt (line 4))\n",
            "  Downloading pycryptodomex-3.20.0-cp35-abi3-manylinux_2_17_x86_64.manylinux2014_x86_64.whl (2.1 MB)\n",
            "\u001b[2K     \u001b[90m━━━━━━━━━━━━━━━━━━━━━━━━━━━━━━━━━━━━━━━━\u001b[0m \u001b[32m2.1/2.1 MB\u001b[0m \u001b[31m27.6 MB/s\u001b[0m eta \u001b[36m0:00:00\u001b[0m\n",
            "\u001b[?25hRequirement already satisfied: certifi in /usr/local/lib/python3.10/dist-packages (from yt-dlp->-r requirements-colab.txt (line 4)) (2023.11.17)\n",
            "Requirement already satisfied: urllib3<3,>=1.26.17 in /usr/local/lib/python3.10/dist-packages (from yt-dlp->-r requirements-colab.txt (line 4)) (2.0.7)\n",
            "Collecting websockets>=12.0 (from yt-dlp->-r requirements-colab.txt (line 4))\n",
            "  Downloading websockets-12.0-cp310-cp310-manylinux_2_5_x86_64.manylinux1_x86_64.manylinux_2_17_x86_64.manylinux2014_x86_64.whl (130 kB)\n",
            "\u001b[2K     \u001b[90m━━━━━━━━━━━━━━━━━━━━━━━━━━━━━━━━━━━━━━━━\u001b[0m \u001b[32m130.2/130.2 kB\u001b[0m \u001b[31m14.7 MB/s\u001b[0m eta \u001b[36m0:00:00\u001b[0m\n",
            "\u001b[?25hCollecting brotli (from yt-dlp->-r requirements-colab.txt (line 4))\n",
            "  Downloading Brotli-1.1.0-cp310-cp310-manylinux_2_5_x86_64.manylinux1_x86_64.manylinux_2_12_x86_64.manylinux2010_x86_64.whl (3.0 MB)\n",
            "\u001b[2K     \u001b[90m━━━━━━━━━━━━━━━━━━━━━━━━━━━━━━━━━━━━━━━━\u001b[0m \u001b[32m3.0/3.0 MB\u001b[0m \u001b[31m34.8 MB/s\u001b[0m eta \u001b[36m0:00:00\u001b[0m\n",
            "\u001b[?25hRequirement already satisfied: charset-normalizer<4,>=2 in /usr/local/lib/python3.10/dist-packages (from requests->fastai==1.0.60->-r requirements-colab.txt (line 1)) (3.3.2)\n",
            "Requirement already satisfied: idna<4,>=2.5 in /usr/local/lib/python3.10/dist-packages (from requests->fastai==1.0.60->-r requirements-colab.txt (line 1)) (3.6)\n",
            "Requirement already satisfied: networkx>=2.2 in /usr/local/lib/python3.10/dist-packages (from scikit-image>=0.11.0->imgaug==0.2.6->-r requirements-colab.txt (line 8)) (3.2.1)\n",
            "Requirement already satisfied: imageio>=2.4.1 in /usr/local/lib/python3.10/dist-packages (from scikit-image>=0.11.0->imgaug==0.2.6->-r requirements-colab.txt (line 8)) (2.31.6)\n",
            "Requirement already satisfied: tifffile>=2019.7.26 in /usr/local/lib/python3.10/dist-packages (from scikit-image>=0.11.0->imgaug==0.2.6->-r requirements-colab.txt (line 8)) (2023.12.9)\n",
            "Requirement already satisfied: PyWavelets>=1.1.1 in /usr/local/lib/python3.10/dist-packages (from scikit-image>=0.11.0->imgaug==0.2.6->-r requirements-colab.txt (line 8)) (1.5.0)\n",
            "Requirement already satisfied: spacy-legacy<3.1.0,>=3.0.11 in /usr/local/lib/python3.10/dist-packages (from spacy>=2.0.18->fastai==1.0.60->-r requirements-colab.txt (line 1)) (3.0.12)\n",
            "Requirement already satisfied: spacy-loggers<2.0.0,>=1.0.0 in /usr/local/lib/python3.10/dist-packages (from spacy>=2.0.18->fastai==1.0.60->-r requirements-colab.txt (line 1)) (1.0.5)\n",
            "Requirement already satisfied: murmurhash<1.1.0,>=0.28.0 in /usr/local/lib/python3.10/dist-packages (from spacy>=2.0.18->fastai==1.0.60->-r requirements-colab.txt (line 1)) (1.0.10)\n",
            "Requirement already satisfied: cymem<2.1.0,>=2.0.2 in /usr/local/lib/python3.10/dist-packages (from spacy>=2.0.18->fastai==1.0.60->-r requirements-colab.txt (line 1)) (2.0.8)\n",
            "Requirement already satisfied: preshed<3.1.0,>=3.0.2 in /usr/local/lib/python3.10/dist-packages (from spacy>=2.0.18->fastai==1.0.60->-r requirements-colab.txt (line 1)) (3.0.9)\n",
            "Requirement already satisfied: thinc<8.2.0,>=8.1.8 in /usr/local/lib/python3.10/dist-packages (from spacy>=2.0.18->fastai==1.0.60->-r requirements-colab.txt (line 1)) (8.1.12)\n",
            "Requirement already satisfied: wasabi<1.2.0,>=0.9.1 in /usr/local/lib/python3.10/dist-packages (from spacy>=2.0.18->fastai==1.0.60->-r requirements-colab.txt (line 1)) (1.1.2)\n",
            "Requirement already satisfied: srsly<3.0.0,>=2.4.3 in /usr/local/lib/python3.10/dist-packages (from spacy>=2.0.18->fastai==1.0.60->-r requirements-colab.txt (line 1)) (2.4.8)\n",
            "Requirement already satisfied: catalogue<2.1.0,>=2.0.6 in /usr/local/lib/python3.10/dist-packages (from spacy>=2.0.18->fastai==1.0.60->-r requirements-colab.txt (line 1)) (2.0.10)\n",
            "Requirement already satisfied: typer<0.10.0,>=0.3.0 in /usr/local/lib/python3.10/dist-packages (from spacy>=2.0.18->fastai==1.0.60->-r requirements-colab.txt (line 1)) (0.9.0)\n",
            "Requirement already satisfied: pathy>=0.10.0 in /usr/local/lib/python3.10/dist-packages (from spacy>=2.0.18->fastai==1.0.60->-r requirements-colab.txt (line 1)) (0.10.3)\n",
            "Requirement already satisfied: smart-open<7.0.0,>=5.2.1 in /usr/local/lib/python3.10/dist-packages (from spacy>=2.0.18->fastai==1.0.60->-r requirements-colab.txt (line 1)) (6.4.0)\n",
            "Requirement already satisfied: tqdm<5.0.0,>=4.38.0 in /usr/local/lib/python3.10/dist-packages (from spacy>=2.0.18->fastai==1.0.60->-r requirements-colab.txt (line 1)) (4.66.1)\n",
            "Requirement already satisfied: pydantic!=1.8,!=1.8.1,<3.0.0,>=1.7.4 in /usr/local/lib/python3.10/dist-packages (from spacy>=2.0.18->fastai==1.0.60->-r requirements-colab.txt (line 1)) (1.10.13)\n",
            "Requirement already satisfied: jinja2 in /usr/local/lib/python3.10/dist-packages (from spacy>=2.0.18->fastai==1.0.60->-r requirements-colab.txt (line 1)) (3.1.3)\n",
            "Requirement already satisfied: setuptools in /usr/local/lib/python3.10/dist-packages (from spacy>=2.0.18->fastai==1.0.60->-r requirements-colab.txt (line 1)) (67.7.2)\n",
            "Requirement already satisfied: langcodes<4.0.0,>=3.2.0 in /usr/local/lib/python3.10/dist-packages (from spacy>=2.0.18->fastai==1.0.60->-r requirements-colab.txt (line 1)) (3.3.0)\n",
            "Requirement already satisfied: filelock in /usr/local/lib/python3.10/dist-packages (from torch>=1.0.0->fastai==1.0.60->-r requirements-colab.txt (line 1)) (3.13.1)\n",
            "Requirement already satisfied: typing-extensions in /usr/local/lib/python3.10/dist-packages (from torch>=1.0.0->fastai==1.0.60->-r requirements-colab.txt (line 1)) (4.5.0)\n",
            "Requirement already satisfied: sympy in /usr/local/lib/python3.10/dist-packages (from torch>=1.0.0->fastai==1.0.60->-r requirements-colab.txt (line 1)) (1.12)\n",
            "Requirement already satisfied: fsspec in /usr/local/lib/python3.10/dist-packages (from torch>=1.0.0->fastai==1.0.60->-r requirements-colab.txt (line 1)) (2023.6.0)\n",
            "Requirement already satisfied: triton==2.1.0 in /usr/local/lib/python3.10/dist-packages (from torch>=1.0.0->fastai==1.0.60->-r requirements-colab.txt (line 1)) (2.1.0)\n",
            "Requirement already satisfied: soupsieve>1.2 in /usr/local/lib/python3.10/dist-packages (from beautifulsoup4->fastai==1.0.60->-r requirements-colab.txt (line 1)) (2.5)\n",
            "Requirement already satisfied: contourpy>=1.0.1 in /usr/local/lib/python3.10/dist-packages (from matplotlib->fastai==1.0.60->-r requirements-colab.txt (line 1)) (1.2.0)\n",
            "Requirement already satisfied: cycler>=0.10 in /usr/local/lib/python3.10/dist-packages (from matplotlib->fastai==1.0.60->-r requirements-colab.txt (line 1)) (0.12.1)\n",
            "Requirement already satisfied: fonttools>=4.22.0 in /usr/local/lib/python3.10/dist-packages (from matplotlib->fastai==1.0.60->-r requirements-colab.txt (line 1)) (4.47.2)\n",
            "Requirement already satisfied: kiwisolver>=1.0.1 in /usr/local/lib/python3.10/dist-packages (from matplotlib->fastai==1.0.60->-r requirements-colab.txt (line 1)) (1.4.5)\n",
            "Requirement already satisfied: pyparsing>=2.3.1 in /usr/local/lib/python3.10/dist-packages (from matplotlib->fastai==1.0.60->-r requirements-colab.txt (line 1)) (3.1.1)\n",
            "Requirement already satisfied: python-dateutil>=2.7 in /usr/local/lib/python3.10/dist-packages (from matplotlib->fastai==1.0.60->-r requirements-colab.txt (line 1)) (2.8.2)\n",
            "Requirement already satisfied: pytz>=2020.1 in /usr/local/lib/python3.10/dist-packages (from pandas->fastai==1.0.60->-r requirements-colab.txt (line 1)) (2023.3.post1)\n",
            "Requirement already satisfied: blis<0.8.0,>=0.7.8 in /usr/local/lib/python3.10/dist-packages (from thinc<8.2.0,>=8.1.8->spacy>=2.0.18->fastai==1.0.60->-r requirements-colab.txt (line 1)) (0.7.11)\n",
            "Requirement already satisfied: confection<1.0.0,>=0.0.1 in /usr/local/lib/python3.10/dist-packages (from thinc<8.2.0,>=8.1.8->spacy>=2.0.18->fastai==1.0.60->-r requirements-colab.txt (line 1)) (0.1.4)\n",
            "Requirement already satisfied: click<9.0.0,>=7.1.1 in /usr/local/lib/python3.10/dist-packages (from typer<0.10.0,>=0.3.0->spacy>=2.0.18->fastai==1.0.60->-r requirements-colab.txt (line 1)) (8.1.7)\n",
            "Requirement already satisfied: MarkupSafe>=2.0 in /usr/local/lib/python3.10/dist-packages (from jinja2->spacy>=2.0.18->fastai==1.0.60->-r requirements-colab.txt (line 1)) (2.1.3)\n",
            "Requirement already satisfied: mpmath>=0.19 in /usr/local/lib/python3.10/dist-packages (from sympy->torch>=1.0.0->fastai==1.0.60->-r requirements-colab.txt (line 1)) (1.3.0)\n",
            "Building wheels for collected packages: imgaug, nvidia-ml-py3\n",
            "  Building wheel for imgaug (setup.py) ... \u001b[?25l\u001b[?25hdone\n",
            "  Created wheel for imgaug: filename=imgaug-0.2.6-py3-none-any.whl size=654001 sha256=d8574ac8740be9f44a6750fc0747cfb71dbf36a3b9e12a73952da2685917729b\n",
            "  Stored in directory: /root/.cache/pip/wheels/cb/c7/a6/2d7a113c4885dc0f4eacd8f41095763181c0b9a18223ac7533\n",
            "  Building wheel for nvidia-ml-py3 (setup.py) ... \u001b[?25l\u001b[?25hdone\n",
            "  Created wheel for nvidia-ml-py3: filename=nvidia_ml_py3-7.352.0-py3-none-any.whl size=19171 sha256=18ec2560a63093b700f898e27446669d3d1824332fdefe142977af1752030e34\n",
            "  Stored in directory: /root/.cache/pip/wheels/5c/d8/c0/46899f8be7a75a2ffd197a23c8797700ea858b9b34819fbf9e\n",
            "Successfully built imgaug nvidia-ml-py3\n",
            "Installing collected packages: nvidia-ml-py3, brotli, websockets, tensorboardX, pycryptodomex, mutagen, ffmpeg-python, bottleneck, yt-dlp, imgaug, fastai\n",
            "  Attempting uninstall: imgaug\n",
            "    Found existing installation: imgaug 0.4.0\n",
            "    Uninstalling imgaug-0.4.0:\n",
            "      Successfully uninstalled imgaug-0.4.0\n",
            "  Attempting uninstall: fastai\n",
            "    Found existing installation: fastai 2.7.13\n",
            "    Uninstalling fastai-2.7.13:\n",
            "      Successfully uninstalled fastai-2.7.13\n",
            "Successfully installed bottleneck-1.3.7 brotli-1.1.0 fastai-1.0.60 ffmpeg-python-0.2.0 imgaug-0.2.6 mutagen-1.47.0 nvidia-ml-py3-7.352.0 pycryptodomex-3.20.0 tensorboardX-2.6.2.2 websockets-12.0 yt-dlp-2023.12.30\n",
            "Collecting gradio\n",
            "  Downloading gradio-4.14.0-py3-none-any.whl (16.6 MB)\n",
            "\u001b[2K     \u001b[90m━━━━━━━━━━━━━━━━━━━━━━━━━━━━━━━━━━━━━━━━\u001b[0m \u001b[32m16.6/16.6 MB\u001b[0m \u001b[31m30.5 MB/s\u001b[0m eta \u001b[36m0:00:00\u001b[0m\n",
            "\u001b[?25hCollecting aiofiles<24.0,>=22.0 (from gradio)\n",
            "  Downloading aiofiles-23.2.1-py3-none-any.whl (15 kB)\n",
            "Requirement already satisfied: altair<6.0,>=4.2.0 in /usr/local/lib/python3.10/dist-packages (from gradio) (4.2.2)\n",
            "Collecting fastapi (from gradio)\n",
            "  Downloading fastapi-0.109.0-py3-none-any.whl (92 kB)\n",
            "\u001b[2K     \u001b[90m━━━━━━━━━━━━━━━━━━━━━━━━━━━━━━━━━━━━━━━━\u001b[0m \u001b[32m92.0/92.0 kB\u001b[0m \u001b[31m10.4 MB/s\u001b[0m eta \u001b[36m0:00:00\u001b[0m\n",
            "\u001b[?25hCollecting ffmpy (from gradio)\n",
            "  Downloading ffmpy-0.3.1.tar.gz (5.5 kB)\n",
            "  Preparing metadata (setup.py) ... \u001b[?25l\u001b[?25hdone\n",
            "Collecting gradio-client==0.8.0 (from gradio)\n",
            "  Downloading gradio_client-0.8.0-py3-none-any.whl (305 kB)\n",
            "\u001b[2K     \u001b[90m━━━━━━━━━━━━━━━━━━━━━━━━━━━━━━━━━━━━━━━━\u001b[0m \u001b[32m305.1/305.1 kB\u001b[0m \u001b[31m25.7 MB/s\u001b[0m eta \u001b[36m0:00:00\u001b[0m\n",
            "\u001b[?25hCollecting httpx (from gradio)\n",
            "  Downloading httpx-0.26.0-py3-none-any.whl (75 kB)\n",
            "\u001b[2K     \u001b[90m━━━━━━━━━━━━━━━━━━━━━━━━━━━━━━━━━━━━━━━━\u001b[0m \u001b[32m75.9/75.9 kB\u001b[0m \u001b[31m6.6 MB/s\u001b[0m eta \u001b[36m0:00:00\u001b[0m\n",
            "\u001b[?25hRequirement already satisfied: huggingface-hub>=0.19.3 in /usr/local/lib/python3.10/dist-packages (from gradio) (0.20.2)\n",
            "Requirement already satisfied: importlib-resources<7.0,>=1.3 in /usr/local/lib/python3.10/dist-packages (from gradio) (6.1.1)\n",
            "Requirement already satisfied: jinja2<4.0 in /usr/local/lib/python3.10/dist-packages (from gradio) (3.1.3)\n",
            "Requirement already satisfied: markupsafe~=2.0 in /usr/local/lib/python3.10/dist-packages (from gradio) (2.1.3)\n",
            "Requirement already satisfied: matplotlib~=3.0 in /usr/local/lib/python3.10/dist-packages (from gradio) (3.7.1)\n",
            "Requirement already satisfied: numpy~=1.0 in /usr/local/lib/python3.10/dist-packages (from gradio) (1.23.5)\n",
            "Collecting orjson~=3.0 (from gradio)\n",
            "  Downloading orjson-3.9.12-cp310-cp310-manylinux_2_17_x86_64.manylinux2014_x86_64.whl (139 kB)\n",
            "\u001b[2K     \u001b[90m━━━━━━━━━━━━━━━━━━━━━━━━━━━━━━━━━━━━━━━━\u001b[0m \u001b[32m139.8/139.8 kB\u001b[0m \u001b[31m16.0 MB/s\u001b[0m eta \u001b[36m0:00:00\u001b[0m\n",
            "\u001b[?25hRequirement already satisfied: packaging in /usr/local/lib/python3.10/dist-packages (from gradio) (23.2)\n",
            "Requirement already satisfied: pandas<3.0,>=1.0 in /usr/local/lib/python3.10/dist-packages (from gradio) (1.5.3)\n",
            "Requirement already satisfied: pillow<11.0,>=8.0 in /usr/local/lib/python3.10/dist-packages (from gradio) (9.4.0)\n",
            "Collecting pydantic>=2.0 (from gradio)\n",
            "  Downloading pydantic-2.5.3-py3-none-any.whl (381 kB)\n",
            "\u001b[2K     \u001b[90m━━━━━━━━━━━━━━━━━━━━━━━━━━━━━━━━━━━━━━━━\u001b[0m \u001b[32m381.9/381.9 kB\u001b[0m \u001b[31m33.2 MB/s\u001b[0m eta \u001b[36m0:00:00\u001b[0m\n",
            "\u001b[?25hCollecting pydub (from gradio)\n",
            "  Downloading pydub-0.25.1-py2.py3-none-any.whl (32 kB)\n",
            "Collecting python-multipart (from gradio)\n",
            "  Downloading python_multipart-0.0.6-py3-none-any.whl (45 kB)\n",
            "\u001b[2K     \u001b[90m━━━━━━━━━━━━━━━━━━━━━━━━━━━━━━━━━━━━━━━━\u001b[0m \u001b[32m45.7/45.7 kB\u001b[0m \u001b[31m5.3 MB/s\u001b[0m eta \u001b[36m0:00:00\u001b[0m\n",
            "\u001b[?25hRequirement already satisfied: pyyaml<7.0,>=5.0 in /usr/local/lib/python3.10/dist-packages (from gradio) (6.0.1)\n",
            "Collecting semantic-version~=2.0 (from gradio)\n",
            "  Downloading semantic_version-2.10.0-py2.py3-none-any.whl (15 kB)\n",
            "Collecting tomlkit==0.12.0 (from gradio)\n",
            "  Downloading tomlkit-0.12.0-py3-none-any.whl (37 kB)\n",
            "Requirement already satisfied: typer[all]<1.0,>=0.9 in /usr/local/lib/python3.10/dist-packages (from gradio) (0.9.0)\n",
            "Requirement already satisfied: typing-extensions~=4.0 in /usr/local/lib/python3.10/dist-packages (from gradio) (4.5.0)\n",
            "Collecting uvicorn>=0.14.0 (from gradio)\n",
            "  Downloading uvicorn-0.26.0-py3-none-any.whl (60 kB)\n",
            "\u001b[2K     \u001b[90m━━━━━━━━━━━━━━━━━━━━━━━━━━━━━━━━━━━━━━━━\u001b[0m \u001b[32m60.5/60.5 kB\u001b[0m \u001b[31m6.0 MB/s\u001b[0m eta \u001b[36m0:00:00\u001b[0m\n",
            "\u001b[?25hRequirement already satisfied: fsspec in /usr/local/lib/python3.10/dist-packages (from gradio-client==0.8.0->gradio) (2023.6.0)\n",
            "Collecting websockets<12.0,>=10.0 (from gradio-client==0.8.0->gradio)\n",
            "  Downloading websockets-11.0.3-cp310-cp310-manylinux_2_5_x86_64.manylinux1_x86_64.manylinux_2_17_x86_64.manylinux2014_x86_64.whl (129 kB)\n",
            "\u001b[2K     \u001b[90m━━━━━━━━━━━━━━━━━━━━━━━━━━━━━━━━━━━━━━━━\u001b[0m \u001b[32m129.9/129.9 kB\u001b[0m \u001b[31m14.1 MB/s\u001b[0m eta \u001b[36m0:00:00\u001b[0m\n",
            "\u001b[?25hRequirement already satisfied: entrypoints in /usr/local/lib/python3.10/dist-packages (from altair<6.0,>=4.2.0->gradio) (0.4)\n",
            "Requirement already satisfied: jsonschema>=3.0 in /usr/local/lib/python3.10/dist-packages (from altair<6.0,>=4.2.0->gradio) (4.19.2)\n",
            "Requirement already satisfied: toolz in /usr/local/lib/python3.10/dist-packages (from altair<6.0,>=4.2.0->gradio) (0.12.0)\n",
            "Requirement already satisfied: filelock in /usr/local/lib/python3.10/dist-packages (from huggingface-hub>=0.19.3->gradio) (3.13.1)\n",
            "Requirement already satisfied: requests in /usr/local/lib/python3.10/dist-packages (from huggingface-hub>=0.19.3->gradio) (2.31.0)\n",
            "Requirement already satisfied: tqdm>=4.42.1 in /usr/local/lib/python3.10/dist-packages (from huggingface-hub>=0.19.3->gradio) (4.66.1)\n",
            "Requirement already satisfied: contourpy>=1.0.1 in /usr/local/lib/python3.10/dist-packages (from matplotlib~=3.0->gradio) (1.2.0)\n",
            "Requirement already satisfied: cycler>=0.10 in /usr/local/lib/python3.10/dist-packages (from matplotlib~=3.0->gradio) (0.12.1)\n",
            "Requirement already satisfied: fonttools>=4.22.0 in /usr/local/lib/python3.10/dist-packages (from matplotlib~=3.0->gradio) (4.47.2)\n",
            "Requirement already satisfied: kiwisolver>=1.0.1 in /usr/local/lib/python3.10/dist-packages (from matplotlib~=3.0->gradio) (1.4.5)\n",
            "Requirement already satisfied: pyparsing>=2.3.1 in /usr/local/lib/python3.10/dist-packages (from matplotlib~=3.0->gradio) (3.1.1)\n",
            "Requirement already satisfied: python-dateutil>=2.7 in /usr/local/lib/python3.10/dist-packages (from matplotlib~=3.0->gradio) (2.8.2)\n",
            "Requirement already satisfied: pytz>=2020.1 in /usr/local/lib/python3.10/dist-packages (from pandas<3.0,>=1.0->gradio) (2023.3.post1)\n",
            "Collecting annotated-types>=0.4.0 (from pydantic>=2.0->gradio)\n",
            "  Downloading annotated_types-0.6.0-py3-none-any.whl (12 kB)\n",
            "Collecting pydantic-core==2.14.6 (from pydantic>=2.0->gradio)\n",
            "  Downloading pydantic_core-2.14.6-cp310-cp310-manylinux_2_17_x86_64.manylinux2014_x86_64.whl (2.1 MB)\n",
            "\u001b[2K     \u001b[90m━━━━━━━━━━━━━━━━━━━━━━━━━━━━━━━━━━━━━━━━\u001b[0m \u001b[32m2.1/2.1 MB\u001b[0m \u001b[31m55.8 MB/s\u001b[0m eta \u001b[36m0:00:00\u001b[0m\n",
            "\u001b[?25hCollecting typing-extensions~=4.0 (from gradio)\n",
            "  Downloading typing_extensions-4.9.0-py3-none-any.whl (32 kB)\n",
            "Requirement already satisfied: click<9.0.0,>=7.1.1 in /usr/local/lib/python3.10/dist-packages (from typer[all]<1.0,>=0.9->gradio) (8.1.7)\n",
            "Collecting colorama<0.5.0,>=0.4.3 (from typer[all]<1.0,>=0.9->gradio)\n",
            "  Downloading colorama-0.4.6-py2.py3-none-any.whl (25 kB)\n",
            "Collecting shellingham<2.0.0,>=1.3.0 (from typer[all]<1.0,>=0.9->gradio)\n",
            "  Downloading shellingham-1.5.4-py2.py3-none-any.whl (9.8 kB)\n",
            "Requirement already satisfied: rich<14.0.0,>=10.11.0 in /usr/local/lib/python3.10/dist-packages (from typer[all]<1.0,>=0.9->gradio) (13.7.0)\n",
            "Collecting h11>=0.8 (from uvicorn>=0.14.0->gradio)\n",
            "  Downloading h11-0.14.0-py3-none-any.whl (58 kB)\n",
            "\u001b[2K     \u001b[90m━━━━━━━━━━━━━━━━━━━━━━━━━━━━━━━━━━━━━━━━\u001b[0m \u001b[32m58.3/58.3 kB\u001b[0m \u001b[31m6.0 MB/s\u001b[0m eta \u001b[36m0:00:00\u001b[0m\n",
            "\u001b[?25hCollecting starlette<0.36.0,>=0.35.0 (from fastapi->gradio)\n",
            "  Downloading starlette-0.35.1-py3-none-any.whl (71 kB)\n",
            "\u001b[2K     \u001b[90m━━━━━━━━━━━━━━━━━━━━━━━━━━━━━━━━━━━━━━━━\u001b[0m \u001b[32m71.1/71.1 kB\u001b[0m \u001b[31m3.5 MB/s\u001b[0m eta \u001b[36m0:00:00\u001b[0m\n",
            "\u001b[?25hRequirement already satisfied: anyio in /usr/local/lib/python3.10/dist-packages (from httpx->gradio) (3.7.1)\n",
            "Requirement already satisfied: certifi in /usr/local/lib/python3.10/dist-packages (from httpx->gradio) (2023.11.17)\n",
            "Collecting httpcore==1.* (from httpx->gradio)\n",
            "  Downloading httpcore-1.0.2-py3-none-any.whl (76 kB)\n",
            "\u001b[2K     \u001b[90m━━━━━━━━━━━━━━━━━━━━━━━━━━━━━━━━━━━━━━━━\u001b[0m \u001b[32m76.9/76.9 kB\u001b[0m \u001b[31m8.7 MB/s\u001b[0m eta \u001b[36m0:00:00\u001b[0m\n",
            "\u001b[?25hRequirement already satisfied: idna in /usr/local/lib/python3.10/dist-packages (from httpx->gradio) (3.6)\n",
            "Requirement already satisfied: sniffio in /usr/local/lib/python3.10/dist-packages (from httpx->gradio) (1.3.0)\n",
            "Requirement already satisfied: attrs>=22.2.0 in /usr/local/lib/python3.10/dist-packages (from jsonschema>=3.0->altair<6.0,>=4.2.0->gradio) (23.2.0)\n",
            "Requirement already satisfied: jsonschema-specifications>=2023.03.6 in /usr/local/lib/python3.10/dist-packages (from jsonschema>=3.0->altair<6.0,>=4.2.0->gradio) (2023.12.1)\n",
            "Requirement already satisfied: referencing>=0.28.4 in /usr/local/lib/python3.10/dist-packages (from jsonschema>=3.0->altair<6.0,>=4.2.0->gradio) (0.32.1)\n",
            "Requirement already satisfied: rpds-py>=0.7.1 in /usr/local/lib/python3.10/dist-packages (from jsonschema>=3.0->altair<6.0,>=4.2.0->gradio) (0.16.2)\n",
            "Requirement already satisfied: six>=1.5 in /usr/local/lib/python3.10/dist-packages (from python-dateutil>=2.7->matplotlib~=3.0->gradio) (1.16.0)\n",
            "Requirement already satisfied: markdown-it-py>=2.2.0 in /usr/local/lib/python3.10/dist-packages (from rich<14.0.0,>=10.11.0->typer[all]<1.0,>=0.9->gradio) (3.0.0)\n",
            "Requirement already satisfied: pygments<3.0.0,>=2.13.0 in /usr/local/lib/python3.10/dist-packages (from rich<14.0.0,>=10.11.0->typer[all]<1.0,>=0.9->gradio) (2.16.1)\n",
            "Requirement already satisfied: exceptiongroup in /usr/local/lib/python3.10/dist-packages (from anyio->httpx->gradio) (1.2.0)\n",
            "Requirement already satisfied: charset-normalizer<4,>=2 in /usr/local/lib/python3.10/dist-packages (from requests->huggingface-hub>=0.19.3->gradio) (3.3.2)\n",
            "Requirement already satisfied: urllib3<3,>=1.21.1 in /usr/local/lib/python3.10/dist-packages (from requests->huggingface-hub>=0.19.3->gradio) (2.0.7)\n",
            "Requirement already satisfied: mdurl~=0.1 in /usr/local/lib/python3.10/dist-packages (from markdown-it-py>=2.2.0->rich<14.0.0,>=10.11.0->typer[all]<1.0,>=0.9->gradio) (0.1.2)\n",
            "Building wheels for collected packages: ffmpy\n",
            "  Building wheel for ffmpy (setup.py) ... \u001b[?25l\u001b[?25hdone\n",
            "  Created wheel for ffmpy: filename=ffmpy-0.3.1-py3-none-any.whl size=5579 sha256=6c0a448e29c3648eb1f6e1a2ace57004f4ae509420efff84994e72c8daba26d8\n",
            "  Stored in directory: /root/.cache/pip/wheels/01/a6/d1/1c0828c304a4283b2c1639a09ad86f83d7c487ef34c6b4a1bf\n",
            "Successfully built ffmpy\n",
            "Installing collected packages: pydub, ffmpy, websockets, typing-extensions, tomlkit, shellingham, semantic-version, python-multipart, orjson, h11, colorama, annotated-types, aiofiles, uvicorn, starlette, pydantic-core, httpcore, pydantic, httpx, gradio-client, fastapi, gradio\n",
            "  Attempting uninstall: websockets\n",
            "    Found existing installation: websockets 12.0\n",
            "    Uninstalling websockets-12.0:\n",
            "      Successfully uninstalled websockets-12.0\n",
            "  Attempting uninstall: typing-extensions\n",
            "    Found existing installation: typing_extensions 4.5.0\n",
            "    Uninstalling typing_extensions-4.5.0:\n",
            "      Successfully uninstalled typing_extensions-4.5.0\n",
            "  Attempting uninstall: pydantic\n",
            "    Found existing installation: pydantic 1.10.13\n",
            "    Uninstalling pydantic-1.10.13:\n",
            "      Successfully uninstalled pydantic-1.10.13\n",
            "\u001b[31mERROR: pip's dependency resolver does not currently take into account all the packages that are installed. This behaviour is the source of the following dependency conflicts.\n",
            "lida 0.0.10 requires kaleido, which is not installed.\n",
            "llmx 0.0.15a0 requires cohere, which is not installed.\n",
            "llmx 0.0.15a0 requires openai, which is not installed.\n",
            "llmx 0.0.15a0 requires tiktoken, which is not installed.\n",
            "tensorflow-probability 0.22.0 requires typing-extensions<4.6.0, but you have typing-extensions 4.9.0 which is incompatible.\n",
            "yt-dlp 2023.12.30 requires websockets>=12.0, but you have websockets 11.0.3 which is incompatible.\u001b[0m\u001b[31m\n",
            "\u001b[0mSuccessfully installed aiofiles-23.2.1 annotated-types-0.6.0 colorama-0.4.6 fastapi-0.109.0 ffmpy-0.3.1 gradio-4.14.0 gradio-client-0.8.0 h11-0.14.0 httpcore-1.0.2 httpx-0.26.0 orjson-3.9.12 pydantic-2.5.3 pydantic-core-2.14.6 pydub-0.25.1 python-multipart-0.0.6 semantic-version-2.10.0 shellingham-1.5.4 starlette-0.35.1 tomlkit-0.12.0 typing-extensions-4.9.0 uvicorn-0.26.0 websockets-11.0.3\n"
          ]
        }
      ]
    },
    {
      "cell_type": "markdown",
      "source": [
        "## Import des modules et modèles"
      ],
      "metadata": {
        "id": "nQivC_93pYrB"
      }
    },
    {
      "cell_type": "code",
      "source": [
        "import gradio as gr\n",
        "import tensorflow as tf\n",
        "from tensorflow.keras.models import load_model\n",
        "from tensorflow.keras.preprocessing import image\n",
        "import cv2\n",
        "import numpy as np\n",
        "import os\n",
        "from PIL import Image\n",
        "import torch\n",
        "import fastai\n",
        "import warnings\n",
        "import requests\n",
        "from transformers import BlipProcessor, BlipForConditionalGeneration"
      ],
      "metadata": {
        "id": "jtctM1Kwmtj_"
      },
      "execution_count": null,
      "outputs": []
    },
    {
      "cell_type": "code",
      "source": [
        "!mkdir ../models"
      ],
      "metadata": {
        "id": "gnH6jnKH-vvV"
      },
      "execution_count": null,
      "outputs": []
    },
    {
      "cell_type": "code",
      "source": [
        "!wget -O ../models/CBDNet.h5 https://www.dropbox.com/scl/fi/j7jx1avtqwar6jigxlahk/CBDNet.h5?rlkey=i4xh89ru5bqzjvcnllifg6376&dl=0\n",
        "!wget -O ../models/RIDNet.h5 https://www.dropbox.com/scl/fi/7wgvjocymgfn3yx5xl3sc/RIDNet.h5?rlkey=4d2z97qbunrc42jo4h2lrbsx8&dl=0\n",
        "!wget -O ../models/InceptionV3.h5 https://www.dropbox.com/scl/fi/3vlglgrongo9b80e3agrw/InceptionV3.h5?rlkey=lwx2cw3xf7gc0x647ts8ie1tr&dl=0\n",
        "!wget -O ./models/ColorizeStable_gen.pth https://www.dropbox.com/scl/fi/qqpz43g4nm3ovvpkpasuc/ColorizeStable_gen.pth?rlkey=imvmqr28803ox2pimwxx5phnq&dl=0"
      ],
      "metadata": {
        "colab": {
          "base_uri": "https://localhost:8080/"
        },
        "id": "O-ensyTXnBi0",
        "outputId": "62a73b97-4f64-4e45-e7bd-d6e51b8395da"
      },
      "execution_count": null,
      "outputs": [
        {
          "output_type": "stream",
          "name": "stdout",
          "text": [
            "--2024-01-18 17:46:24--  https://www.dropbox.com/scl/fi/j7jx1avtqwar6jigxlahk/CBDNet.h5?rlkey=i4xh89ru5bqzjvcnllifg6376\n",
            "Resolving www.dropbox.com (www.dropbox.com)... 162.125.5.18, 2620:100:601d:18::a27d:512\n",
            "Connecting to www.dropbox.com (www.dropbox.com)|162.125.5.18|:443... connected.\n",
            "HTTP request sent, awaiting response... 302 Found\n",
            "Location: https://uc0c7bf9c169661a1f4a673e666c.dl.dropboxusercontent.com/cd/0/inline/CLn0x4iXYnD38XkFSlebuy0nIX1klgQD4hLVrBxvqUHbaCa2ej73qDG_9j8ZyYPqzMaKT9U9udHi8AgZFJB2mv7BxRDjHgoRxomA3QwcjRT3myQAcXdTJH5pWDKXT8AGTtf4X1mkyZtxZGOqFU9fbaWa/file# [following]\n",
            "--2024-01-18 17:46:25--  https://uc0c7bf9c169661a1f4a673e666c.dl.dropboxusercontent.com/cd/0/inline/CLn0x4iXYnD38XkFSlebuy0nIX1klgQD4hLVrBxvqUHbaCa2ej73qDG_9j8ZyYPqzMaKT9U9udHi8AgZFJB2mv7BxRDjHgoRxomA3QwcjRT3myQAcXdTJH5pWDKXT8AGTtf4X1mkyZtxZGOqFU9fbaWa/file\n",
            "Resolving uc0c7bf9c169661a1f4a673e666c.dl.dropboxusercontent.com (uc0c7bf9c169661a1f4a673e666c.dl.dropboxusercontent.com)... 162.125.5.15, 2620:100:601d:15::a27d:50f\n",
            "Connecting to uc0c7bf9c169661a1f4a673e666c.dl.dropboxusercontent.com (uc0c7bf9c169661a1f4a673e666c.dl.dropboxusercontent.com)|162.125.5.15|:443... connected.\n",
            "HTTP request sent, awaiting response... 200 OK\n",
            "Length: 55046656 (52M) [text/plain]\n",
            "Saving to: ‘../models/CBDNet.h5’\n",
            "\n",
            "../models/CBDNet.h5 100%[===================>]  52.50M  76.0MB/s    in 0.7s    \n",
            "\n",
            "2024-01-18 17:46:27 (76.0 MB/s) - ‘../models/CBDNet.h5’ saved [55046656/55046656]\n",
            "\n",
            "--2024-01-18 17:46:27--  https://www.dropbox.com/scl/fi/7wgvjocymgfn3yx5xl3sc/RIDNet.h5?rlkey=4d2z97qbunrc42jo4h2lrbsx8\n",
            "Resolving www.dropbox.com (www.dropbox.com)... 162.125.5.18, 2620:100:601d:18::a27d:512\n",
            "Connecting to www.dropbox.com (www.dropbox.com)|162.125.5.18|:443... connected.\n",
            "HTTP request sent, awaiting response... 302 Found\n",
            "Location: https://uc9d0899b26692e1a8cc4098b154.dl.dropboxusercontent.com/cd/0/inline/CLmvgCLe9ertN3Cufd9uJAf0m4zDpoYEPvOV-z6VamKmVNwZiOVsQuWUVopVMef7Y1KdLJPMuE0Y_jXipRTx-M7WY_vt1qSrYHnXjb5BaHGpaLIdhEXMoFHPxXRV2dij7b02uUBPWk5xEf2gcF1nN5uO/file# [following]\n",
            "--2024-01-18 17:46:27--  https://uc9d0899b26692e1a8cc4098b154.dl.dropboxusercontent.com/cd/0/inline/CLmvgCLe9ertN3Cufd9uJAf0m4zDpoYEPvOV-z6VamKmVNwZiOVsQuWUVopVMef7Y1KdLJPMuE0Y_jXipRTx-M7WY_vt1qSrYHnXjb5BaHGpaLIdhEXMoFHPxXRV2dij7b02uUBPWk5xEf2gcF1nN5uO/file\n",
            "Resolving uc9d0899b26692e1a8cc4098b154.dl.dropboxusercontent.com (uc9d0899b26692e1a8cc4098b154.dl.dropboxusercontent.com)... 162.125.5.15, 2620:100:601d:15::a27d:50f\n",
            "Connecting to uc9d0899b26692e1a8cc4098b154.dl.dropboxusercontent.com (uc9d0899b26692e1a8cc4098b154.dl.dropboxusercontent.com)|162.125.5.15|:443... connected.\n",
            "HTTP request sent, awaiting response... 200 OK\n",
            "Length: 21974032 (21M) [text/plain]\n",
            "Saving to: ‘../models/RIDNet.h5’\n",
            "\n",
            "../models/RIDNet.h5 100%[===================>]  20.96M  56.4MB/s    in 0.4s    \n",
            "\n",
            "2024-01-18 17:46:29 (56.4 MB/s) - ‘../models/RIDNet.h5’ saved [21974032/21974032]\n",
            "\n",
            "--2024-01-18 17:46:29--  https://www.dropbox.com/scl/fi/3vlglgrongo9b80e3agrw/InceptionV3.h5?rlkey=lwx2cw3xf7gc0x647ts8ie1tr\n",
            "Resolving www.dropbox.com (www.dropbox.com)... 162.125.5.18, 2620:100:601d:18::a27d:512\n",
            "Connecting to www.dropbox.com (www.dropbox.com)|162.125.5.18|:443... connected.\n",
            "HTTP request sent, awaiting response... 302 Found\n",
            "Location: https://uc39dbb6a993bc975448cd4a12ac.dl.dropboxusercontent.com/cd/0/inline/CLlYFXTEYL4P_w_amQGeUUD6R_0iGVxX54t1lKSy6xOu0e9tBtkXHdtMnhx9QHAFpWSbDPwg2EYUxmL_aqGI6PVJQkcsWNIP13nXU-DQx1WR2TSaI_u9LgWo4OSPdkZ8BaVpW3GhuOhhPJpBCvTIyANR/file# [following]\n",
            "--2024-01-18 17:46:29--  https://uc39dbb6a993bc975448cd4a12ac.dl.dropboxusercontent.com/cd/0/inline/CLlYFXTEYL4P_w_amQGeUUD6R_0iGVxX54t1lKSy6xOu0e9tBtkXHdtMnhx9QHAFpWSbDPwg2EYUxmL_aqGI6PVJQkcsWNIP13nXU-DQx1WR2TSaI_u9LgWo4OSPdkZ8BaVpW3GhuOhhPJpBCvTIyANR/file\n",
            "Resolving uc39dbb6a993bc975448cd4a12ac.dl.dropboxusercontent.com (uc39dbb6a993bc975448cd4a12ac.dl.dropboxusercontent.com)... 162.125.13.15, 2620:100:601d:15::a27d:50f\n",
            "Connecting to uc39dbb6a993bc975448cd4a12ac.dl.dropboxusercontent.com (uc39dbb6a993bc975448cd4a12ac.dl.dropboxusercontent.com)|162.125.13.15|:443... connected.\n",
            "HTTP request sent, awaiting response... 200 OK\n",
            "Length: 313115312 (299M) [text/plain]\n",
            "Saving to: ‘../models/InceptionV3.h5’\n",
            "\n",
            "../models/Inception 100%[===================>] 298.61M  40.6MB/s    in 7.8s    \n",
            "\n",
            "2024-01-18 17:46:38 (38.2 MB/s) - ‘../models/InceptionV3.h5’ saved [313115312/313115312]\n",
            "\n",
            "--2024-01-18 17:46:38--  https://www.dropbox.com/scl/fi/qqpz43g4nm3ovvpkpasuc/ColorizeStable_gen.pth?rlkey=imvmqr28803ox2pimwxx5phnq\n",
            "Resolving www.dropbox.com (www.dropbox.com)... 162.125.5.18, 2620:100:601d:18::a27d:512\n",
            "Connecting to www.dropbox.com (www.dropbox.com)|162.125.5.18|:443... connected.\n",
            "HTTP request sent, awaiting response... 302 Found\n",
            "Location: https://ucfcf0cba0e75cfb4bc5c82c8ed3.dl.dropboxusercontent.com/cd/0/inline/CLnBqssxFnNON0Hg8Kx_yk6377dXCfpivuWPfSDrtYdMk6EFM0utIvs33W-l6-u_xoZLokrlO3gUDNaF98OES1xzLnw75BK_j4y7DTcm9wlWhN8dRNIwlStkAtOfMKd9Zz4ZAjpJyl2xanNNvIPFPt7d/file# [following]\n",
            "--2024-01-18 17:46:39--  https://ucfcf0cba0e75cfb4bc5c82c8ed3.dl.dropboxusercontent.com/cd/0/inline/CLnBqssxFnNON0Hg8Kx_yk6377dXCfpivuWPfSDrtYdMk6EFM0utIvs33W-l6-u_xoZLokrlO3gUDNaF98OES1xzLnw75BK_j4y7DTcm9wlWhN8dRNIwlStkAtOfMKd9Zz4ZAjpJyl2xanNNvIPFPt7d/file\n",
            "Resolving ucfcf0cba0e75cfb4bc5c82c8ed3.dl.dropboxusercontent.com (ucfcf0cba0e75cfb4bc5c82c8ed3.dl.dropboxusercontent.com)... 162.125.5.15, 2620:100:601d:15::a27d:50f\n",
            "Connecting to ucfcf0cba0e75cfb4bc5c82c8ed3.dl.dropboxusercontent.com (ucfcf0cba0e75cfb4bc5c82c8ed3.dl.dropboxusercontent.com)|162.125.5.15|:443... connected.\n",
            "HTTP request sent, awaiting response... 302 Found\n",
            "Location: /cd/0/inline2/CLkezOd-D4JSQn4neGJvjFauIp24Ive_ymNYXmZ1L_HpgwqgQ3vNuYOATFmlyn2NiaD5yxw2_qgiNyHgOrjWmxXW_1ykJkSs6_9wRdoy1fsVKQBQfZpRwL6YJZh6HW0_qjqXDDmfcUEW0pLXEbfP4Ls1QhyXbY2X01lQ5WLVpAdhYFRvfXXC9g8huUzFozD-ulip_1QS4miZJ4J7vqc1lgpN7lFdonB0nayFrMvrACCsrcMjHStT2q38kCQCQao1rYyLIG36sgdiZveaswQOkI_QB6FYv6gYMGjKXk0UWbYeRgnCdGBgBNCKLh4kRrUD8xHyQpc2CLOuL68OjGOiSRZ0mD3H6s0uWXPDpAMprq_KljKw16oPzRseWIP9XHPcpgU/file [following]\n",
            "--2024-01-18 17:46:40--  https://ucfcf0cba0e75cfb4bc5c82c8ed3.dl.dropboxusercontent.com/cd/0/inline2/CLkezOd-D4JSQn4neGJvjFauIp24Ive_ymNYXmZ1L_HpgwqgQ3vNuYOATFmlyn2NiaD5yxw2_qgiNyHgOrjWmxXW_1ykJkSs6_9wRdoy1fsVKQBQfZpRwL6YJZh6HW0_qjqXDDmfcUEW0pLXEbfP4Ls1QhyXbY2X01lQ5WLVpAdhYFRvfXXC9g8huUzFozD-ulip_1QS4miZJ4J7vqc1lgpN7lFdonB0nayFrMvrACCsrcMjHStT2q38kCQCQao1rYyLIG36sgdiZveaswQOkI_QB6FYv6gYMGjKXk0UWbYeRgnCdGBgBNCKLh4kRrUD8xHyQpc2CLOuL68OjGOiSRZ0mD3H6s0uWXPDpAMprq_KljKw16oPzRseWIP9XHPcpgU/file\n",
            "Reusing existing connection to ucfcf0cba0e75cfb4bc5c82c8ed3.dl.dropboxusercontent.com:443.\n",
            "HTTP request sent, awaiting response... 200 OK\n",
            "Length: 874066230 (834M) [application/octet-stream]\n",
            "Saving to: ‘./models/ColorizeStable_gen.pth’\n",
            "\n",
            "./models/ColorizeSt 100%[===================>] 833.57M  67.8MB/s    in 11s     \n",
            "\n",
            "2024-01-18 17:46:51 (73.1 MB/s) - ‘./models/ColorizeStable_gen.pth’ saved [874066230/874066230]\n",
            "\n"
          ]
        }
      ]
    },
    {
      "cell_type": "code",
      "source": [
        "warnings.filterwarnings(\"ignore\",\n",
        "                        category=UserWarning, message=\".*?Your .*? set is empty.*?\")"
      ],
      "metadata": {
        "id": "wuKnhNA1wePG"
      },
      "execution_count": null,
      "outputs": []
    },
    {
      "cell_type": "markdown",
      "source": [
        "# Pipeline"
      ],
      "metadata": {
        "id": "m-ehWQnepv76"
      }
    },
    {
      "cell_type": "markdown",
      "source": [
        "## Captioning"
      ],
      "metadata": {
        "id": "xrx5sA55p6OE"
      }
    },
    {
      "cell_type": "code",
      "source": [
        "import requests\n",
        "from PIL import Image\n",
        "from transformers import BlipProcessor, BlipForConditionalGeneration\n",
        "\n",
        "processor = BlipProcessor.from_pretrained(\"Salesforce/blip-image-captioning-large\")\n",
        "model = BlipForConditionalGeneration.from_pretrained(\"Salesforce/blip-image-captioning-large\").to(\"cuda\")\n",
        "\n",
        "def caption_image(img):\n",
        "  text = \"a photography of\"\n",
        "  inputs = processor(img, text, return_tensors=\"pt\").to(\"cuda\")\n",
        "\n",
        "  out = model.generate(**inputs)\n",
        "  return processor.decode(out[0], skip_special_tokens=True)"
      ],
      "metadata": {
        "id": "q8uqL_tkJte8"
      },
      "execution_count": null,
      "outputs": []
    },
    {
      "cell_type": "markdown",
      "source": [
        "## Classification"
      ],
      "metadata": {
        "id": "OkaC273Gp8Vz"
      }
    },
    {
      "cell_type": "code",
      "source": [
        "from deoldify.visualize import *\n",
        "\n",
        "COLORIZER_MODEL = get_image_colorizer(artistic=False)\n",
        "CLASSIFIER_MODEL_PATH = \"/content/models/InceptionV3.h5\""
      ],
      "metadata": {
        "id": "USo_1FDnc6kj"
      },
      "execution_count": null,
      "outputs": []
    },
    {
      "cell_type": "code",
      "source": [
        "categories_list = [\"Painting\", \"Photo\", \"Schematics\", \"Sketch\", \"Text\"]\n",
        "\n",
        "def classify_image(img):\n",
        "    loaded_model = load_model(CLASSIFIER_MODEL_PATH)\n",
        "    predictions = loaded_model.predict(img)\n",
        "    predicted_class_index = np.argmax(predictions)\n",
        "    confidence = predictions[0][predicted_class_index]\n",
        "\n",
        "    return categories_list[int(predicted_class_index)]"
      ],
      "metadata": {
        "id": "WDA9_jPfvs1Q"
      },
      "execution_count": null,
      "outputs": []
    },
    {
      "cell_type": "markdown",
      "source": [
        "## Colorisation"
      ],
      "metadata": {
        "id": "dKAWW6QQp_Zk"
      }
    },
    {
      "cell_type": "code",
      "source": [
        "def is_colored_image(img):\n",
        "    if len(img.shape) == 3 and img.shape[2] == 3:\n",
        "        if (img[:, :, 0] == img[:, :, 1]).all() and (img[:, :, 0] == img[:, :, 2]).all():\n",
        "            return False\n",
        "        return True\n",
        "    elif len(img.shape) == 2:\n",
        "        return False\n",
        "    return False\n",
        "\n",
        "def colorize(img):\n",
        "  pil_image = Image.fromarray(np.uint8(img)).convert('RGB')\n",
        "  input_image_path = 'input_image.jpg'\n",
        "  pil_image.save(input_image_path)\n",
        "\n",
        "  image_path = COLORIZER_MODEL.plot_transformed_image(\n",
        "      path=input_image_path,\n",
        "      render_factor=35,\n",
        "      watermarked=False\n",
        "  )\n",
        "  colorized_image = Image.open(image_path)\n",
        "  colorized_image_array = np.array(colorized_image)\n",
        "\n",
        "  return colorized_image_array"
      ],
      "metadata": {
        "id": "tdAmkQDTeq38"
      },
      "execution_count": null,
      "outputs": []
    },
    {
      "cell_type": "markdown",
      "source": [
        "## Débruitage"
      ],
      "metadata": {
        "id": "tHsi9FoOqCQm"
      }
    },
    {
      "cell_type": "code",
      "source": [
        "def denoise_image(model, noised_image):\n",
        "    denoised_img_array = model.predict(noised_image)\n",
        "    denoised_img_array = np.squeeze(denoised_img_array) * 255.0\n",
        "    denoised_img_array = np.clip(denoised_img_array, 0, 255)\n",
        "    denoised_img = Image.fromarray(denoised_img_array.astype(np.uint8))\n",
        "\n",
        "    return denoised_img\n",
        "\n",
        "def add_noise(image, noise_factor):\n",
        "    row, col, ch = image.shape\n",
        "    gauss = np.random.normal(0, 25, (row, col, ch))\n",
        "    noisy_image = np.clip(image + noise_factor*10 * gauss, 0, 255).astype(np.uint8)\n",
        "    return noisy_image"
      ],
      "metadata": {
        "id": "aJG_QP1obuw-"
      },
      "execution_count": null,
      "outputs": []
    },
    {
      "cell_type": "markdown",
      "source": [
        "### Mesure de la qualité d'une image"
      ],
      "metadata": {
        "id": "GtCqPisTqI11"
      }
    },
    {
      "cell_type": "code",
      "source": [
        "from skimage.metrics import structural_similarity as ssim\n",
        "\n",
        "def calculate_psnr_color(image1, image2):\n",
        "    mse = np.mean((image1 - image2) ** 2)\n",
        "    if mse == 0:  # Les deux images sont identiques\n",
        "        return float('inf')\n",
        "    max_pixel = 255.0\n",
        "    psnr = 20 * np.log10(max_pixel / np.sqrt(mse))\n",
        "    return psnr\n",
        "\n",
        "def calculate_snr_color(image1, image2):\n",
        "    noise = image1 - image2\n",
        "    signal_power = np.mean(image1 ** 2)\n",
        "    noise_power = np.mean(noise ** 2)\n",
        "    snr = 10 * np.log10(signal_power / noise_power)\n",
        "    return snr\n",
        "\n",
        "def calculate_blur_metric(image):\n",
        "    gray_image = cv2.cvtColor(image, cv2.COLOR_BGR2GRAY)\n",
        "    laplacian_var = cv2.Laplacian(gray_image, cv2.CV_64F).var()\n",
        "    return laplacian_var\n",
        "\n",
        "def is_default_image_better(image_array1, image_array2):\n",
        "    image1 = np.squeeze(image_array1)\n",
        "    image1 = (image1 * 255).astype(np.uint8)\n",
        "\n",
        "    image2 = np.squeeze(image_array2)\n",
        "    image2 = (image2 * 255).astype(np.uint8)\n",
        "\n",
        "    # Calculer les métriques pour chaque image\n",
        "    psnr_value = calculate_psnr_color(image1, image2)\n",
        "    snr_value = calculate_snr_color(image1, image2)\n",
        "    ssim_value = ssim(image1, image2, multichannel=True)\n",
        "    blur_metric_image1 = calculate_blur_metric(image1)\n",
        "    blur_metric_image2 = calculate_blur_metric(image2)\n",
        "\n",
        "    # Évaluer quelle image est la meilleure\n",
        "    score_image1 = 0\n",
        "    score_image2 = 0\n",
        "\n",
        "    # PSNR - plus c'est élevé, mieux c'est\n",
        "    score_image1 += 1 if psnr_value > 26 else 0  # Seuil ajustable\n",
        "\n",
        "    # SNR - plus c'est élevé, mieux c'est\n",
        "    score_image1 += 1 if snr_value > 0.5 else 0  # Seuil ajustable\n",
        "\n",
        "    # SSIM - plus proche de 1, mieux c'est\n",
        "    score_image1 += 1 if ssim_value > 0.45 else 0  # Seuil ajustable\n",
        "\n",
        "    # Blur Metric - moins c'est élevé, mieux c'est\n",
        "    if blur_metric_image1 > blur_metric_image2:\n",
        "        score_image1 += 1\n",
        "    else:\n",
        "        score_image2 += 1\n",
        "\n",
        "    # Comparer les scores\n",
        "    if score_image1 > score_image2:\n",
        "        return True\n",
        "    else:\n",
        "        return False"
      ],
      "metadata": {
        "id": "MTG81pnhE3xI"
      },
      "execution_count": null,
      "outputs": []
    },
    {
      "cell_type": "markdown",
      "source": [
        "## Preprocess et redimensionnement d'image"
      ],
      "metadata": {
        "id": "mrvOG7ShqSI1"
      }
    },
    {
      "cell_type": "code",
      "source": [
        "IMG_SIZE = 256 # @param {type:\"number\"}\n",
        "\n",
        "model_path_list = [\"/content/models/CBDNet.h5\",\"/content/models/RIDNet.h5\"]\n",
        "\n",
        "def preprocess_image(img):\n",
        "    img = tf.image.resize(img, (IMG_SIZE, IMG_SIZE), method=tf.image.ResizeMethod.NEAREST_NEIGHBOR)\n",
        "    img_array = tf.keras.preprocessing.image.img_to_array(img)\n",
        "    img_array = img_array / 255.0\n",
        "    img_array = tf.expand_dims(img_array, 0)\n",
        "\n",
        "    return img_array\n",
        "\n",
        "def restore_default_image_size(img, IMG_HEIGHT, IMG_WIDTH):\n",
        "    img = tf.image.resize(img, (IMG_HEIGHT, IMG_WIDTH), method=tf.image.ResizeMethod.NEAREST_NEIGHBOR)\n",
        "    img_array = tf.keras.preprocessing.image.img_to_array(img)\n",
        "    img_array = img_array / 255.0\n",
        "\n",
        "    return img_array\n",
        "\n",
        "def get_gradio_error(error_message):\n",
        "    return [\n",
        "        gr.Label(value=error_message, visible=True),\n",
        "        gr.Image(visible=False),\n",
        "        gr.Label(visible=False),\n",
        "        gr.Image(visible=False),\n",
        "        gr.Label(visible=False),\n",
        "        gr.Image(visible=False),\n",
        "        gr.Label(visible=False),\n",
        "        gr.Image(visible=False),\n",
        "        gr.Label(visible=False),\n",
        "        gr.Label(visible=False)\n",
        "        ]"
      ],
      "metadata": {
        "id": "_cihHPtzm4vD"
      },
      "execution_count": null,
      "outputs": []
    },
    {
      "cell_type": "markdown",
      "source": [
        "# Interface Gradio"
      ],
      "metadata": {
        "id": "BhkNSSJqqevr"
      }
    },
    {
      "cell_type": "code",
      "source": [
        "def processing_and_captionning_image(denoise_model_path, target_class, should_colorize_image, noise_factor, img):\n",
        "    if (img is None or denoise_model_path is None):\n",
        "      return get_gradio_error(\"Error: Required field(s) are undefined\")\n",
        "\n",
        "    if (not os.path.exists(denoise_model_path)):\n",
        "      return get_gradio_error(\"Error: file \" + denoise_model_path + \" not found\")\n",
        "\n",
        "    if (not os.path.exists(CLASSIFIER_MODEL_PATH)):\n",
        "      return get_gradio_error(\"Error: file \" + CLASSIFIER_MODEL_PATH + \" not found\")\n",
        "\n",
        "    GRADIO_GLOBAL_RETURN = [\n",
        "        gr.Label(value=\"Success: All the required fields have been successfully filled\", visible=True),\n",
        "        gr.Image(img, label=\"Submited image\", visible=True),\n",
        "    ]\n",
        "\n",
        "    IMG_HEIGHT, IMG_WIDTH, _ = img.shape\n",
        "\n",
        "    if(not is_colored_image(img) and should_colorize_image):\n",
        "      colorized_image = colorize(img)\n",
        "      GRADIO_GLOBAL_RETURN.extend([\n",
        "        gr.Label(value=\"Gray scale image detected (not colored)\", visible=True),\n",
        "        gr.Image(colorized_image, label=\"Colorized image\", visible=True)\n",
        "      ])\n",
        "      !rm -f 'input_image.jpg'\n",
        "    else:\n",
        "      colorized_image = img\n",
        "      GRADIO_GLOBAL_RETURN.extend([\n",
        "        gr.Label(value=\"Colored image detected, or no need to colorize this image\", visible=True),\n",
        "        gr.Image(visible=False)\n",
        "      ])\n",
        "\n",
        "    if (noise_factor > 0):\n",
        "      noised_image = add_noise(colorized_image, noise_factor)\n",
        "      GRADIO_GLOBAL_RETURN.append(\n",
        "        gr.Label(value=\"Adding noise to the image\", visible=True),\n",
        "      )\n",
        "    else:\n",
        "      noised_image = colorized_image\n",
        "      GRADIO_GLOBAL_RETURN.append(\n",
        "        gr.Label(value=\"Image already has noise or should not be noised\", visible=True),\n",
        "      )\n",
        "\n",
        "    GRADIO_GLOBAL_RETURN.append(\n",
        "      gr.Image(noised_image, label=\"Noised image\", visible=True)\n",
        "    )\n",
        "\n",
        "    processed_img = preprocess_image(noised_image)\n",
        "\n",
        "    image_class = classify_image(processed_img)\n",
        "    GRADIO_GLOBAL_RETURN.append(\n",
        "      gr.Label(value=\"The image have been detected as: \" + image_class, visible=True)\n",
        "    )\n",
        "\n",
        "    loaded_denoise_model = load_model(denoise_model_path)\n",
        "    denoised_image = denoise_image(loaded_denoise_model, processed_img)\n",
        "\n",
        "    if (IMG_HEIGHT != IMG_WIDTH):\n",
        "      final_image = restore_default_image_size(denoised_image, IMG_HEIGHT, IMG_WIDTH)\n",
        "    else:\n",
        "      final_image = denoised_image\n",
        "\n",
        "    GRADIO_GLOBAL_RETURN.append(\n",
        "      gr.Image(final_image, label=\"De-noised image\", visible=True)\n",
        "    )\n",
        "\n",
        "    if (image_class == target_class):\n",
        "      if (is_default_image_better(processed_img, denoised_image)):\n",
        "        pil_image = Image.fromarray(np.uint8(colorized_image)).convert('RGB')\n",
        "        GRADIO_GLOBAL_RETURN.append(\n",
        "          gr.Label(value=\"Default image is better than de-noised image\", visible=True)\n",
        "        )\n",
        "      else:\n",
        "        pil_image = Image.fromarray(np.uint8(final_image)).convert('RGB')\n",
        "        GRADIO_GLOBAL_RETURN.append(\n",
        "          gr.Label(value=\"De-noised image is better than default image\", visible=True)\n",
        "        )\n",
        "      captioning_predict = caption_image(pil_image)\n",
        "      GRADIO_GLOBAL_RETURN.append(\n",
        "        gr.Label(value=\"The submitted image represents: \" + captioning_predict, visible=True)\n",
        "      )\n",
        "    else:\n",
        "      GRADIO_GLOBAL_RETURN.extend([\n",
        "        gr.Label(visible=False),\n",
        "        gr.Label(value=\"As the image have not been classified in the targeted class, there will not be captionning\", visible=True)\n",
        "      ])\n",
        "\n",
        "    return GRADIO_GLOBAL_RETURN"
      ],
      "metadata": {
        "id": "nP4pjCMR2d3S"
      },
      "execution_count": null,
      "outputs": []
    },
    {
      "cell_type": "code",
      "source": [
        "ui = gr.Interface(\n",
        "    fn=processing_and_captionning_image,\n",
        "    inputs=[\n",
        "        gr.Dropdown(choices=model_path_list, value=model_path_list[0], label=\"Select the denoising model\"),\n",
        "        gr.Dropdown(choices=categories_list, value=categories_list[1], label=\"Select the targeted class\"),\n",
        "        gr.Checkbox(value=True, label=\"Colorize the image\"),\n",
        "        gr.Slider(minimum=0.0, maximum=0.3, step=0.05, value=0, label=\"Noise factor\"),\n",
        "        gr.Image(sources=['upload'], label=\"Supported image types : PNG, JPG, JPEG\")\n",
        "        ],\n",
        "    outputs=[\n",
        "        gr.Label(), # Status\n",
        "        gr.Image(), # Default input image\n",
        "        gr.Label(), # Is colored ?\n",
        "        gr.Image(), # If black and white, colored image\n",
        "        gr.Label(), # Is noise > 0\n",
        "        gr.Image(), # If noise > 0, noised image\n",
        "        gr.Label(), # Class of the image\n",
        "        gr.Image(), # De-noised image\n",
        "        gr.Label(), # Best image (default or denoised)\n",
        "        gr.Label() # If image is Photo, captionning details\n",
        "        ],\n",
        "    title=\"Projet Data - Image Captioning\",\n",
        "    description=\"Upload an image to caption it.\",\n",
        ")"
      ],
      "metadata": {
        "id": "6d48YgKb2bEj"
      },
      "execution_count": null,
      "outputs": []
    },
    {
      "cell_type": "code",
      "source": [
        "ui.launch()"
      ],
      "metadata": {
        "id": "Ms8puFVhm74c"
      },
      "execution_count": null,
      "outputs": []
    }
  ]
}